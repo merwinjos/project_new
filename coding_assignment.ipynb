{
  "nbformat": 4,
  "nbformat_minor": 0,
  "metadata": {
    "colab": {
      "provenance": [],
      "authorship_tag": "ABX9TyNYMlP+V8K4sXoVTbSfJjkT",
      "include_colab_link": true
    },
    "kernelspec": {
      "name": "python3",
      "display_name": "Python 3"
    },
    "language_info": {
      "name": "python"
    }
  },
  "cells": [
    {
      "cell_type": "markdown",
      "metadata": {
        "id": "view-in-github",
        "colab_type": "text"
      },
      "source": [
        "<a href=\"https://colab.research.google.com/github/merwinjos/Project/blob/main/Copy_of_coding_assignment.ipynb\" target=\"_parent\"><img src=\"https://colab.research.google.com/assets/colab-badge.svg\" alt=\"Open In Colab\"/></a>"
      ]
    },
    {
      "cell_type": "code",
      "source": [
        "import requests\n",
        "from bs4 import BeautifulSoup\n",
        "import xml.etree.ElementTree as ET\n",
        "\n",
        "\n",
        "def fetch_canoo_info_wikipedia():\n",
        "    wikipedia_url = 'https://en.wikipedia.org/wiki/Canoo'\n",
        "\n",
        "\n",
        "    response = requests.get(wikipedia_url)\n",
        "\n",
        "\n",
        "    soup = BeautifulSoup(response.text, 'html.parser')\n",
        "\n",
        "    company_name = soup.find(class_='mw-page-title-main').text.strip()\n",
        "    company_history = soup.find('div', class_='mw-content-ltr mw-parser-output').text.strip()\n",
        "\n",
        "\n",
        "    return {\n",
        "        'Company Name': company_name,\n",
        "        'Company history': company_history,\n",
        "\n",
        "    }\n",
        "\n",
        "def fetch_canoo_info_globaldata():\n",
        "    globaldata_url = 'https://www.globaldata.com/store/report/canoo-inc-company-profile/'\n",
        "\n",
        "    response = requests.get(globaldata_url)\n",
        "\n",
        "    soup = BeautifulSoup(response.text, 'html.parser')\n",
        "\n",
        "\n",
        "    company_competition = soup.find('div', class_='cell medium-8 large-9').text.strip()\n",
        "\n",
        "    return {\n",
        "        'Competition': company_competition,\n",
        "    }\n",
        "def fetch_canoo_info_report():\n",
        "    report_url = 'https://investors.canoo.com/financial-information/income-statement'\n",
        "\n",
        "    response = requests.get(report_url)\n",
        "\n",
        "    soup = BeautifulSoup(response.text, 'lxml')\n",
        "\n",
        "\n",
        "    report_url = soup.find('div', class_='main-content').text.strip()\n",
        "\n",
        "\n",
        "    return {\n",
        "        'report': report_url,\n",
        "\n",
        "    }\n",
        "def save_to_xml(data, filename='canoo_info.xml'):\n",
        "    root = ET.Element('Company')\n",
        "    for key, value in data.items():\n",
        "        ET.SubElement(root, key.replace(' ', '_')).text = value\n",
        "\n",
        "    tree = ET.ElementTree(root)\n",
        "    tree.write(filename, encoding='utf-8', xml_declaration=True)\n",
        "    print(f\"Data saved to {filename}\")\n",
        "\n",
        "if __name__ == \"__main__\":\n",
        "    canoo_info_wikipedia = fetch_canoo_info_wikipedia()\n",
        "    canoo_info_globaldata = fetch_canoo_info_globaldata()\n",
        "    canoo_info_report = fetch_canoo_info_report()\n",
        "\n",
        "    combined_info = {**canoo_info_wikipedia, **fetch_canoo_info_globaldata}\n",
        "    save_to_xml(combined_info)\n"
      ],
      "metadata": {
        "colab": {
          "base_uri": "https://localhost:8080/"
        },
        "id": "flMXPfTzfyuM",
        "outputId": "44d2e7f5-e47f-49bb-ba17-5c3707ec3be9"
      },
      "execution_count": null,
      "outputs": [
        {
          "output_type": "stream",
          "name": "stdout",
          "text": [
            "Data saved to canoo_info.xml\n"
          ]
        }
      ]
    }
  ]
}
